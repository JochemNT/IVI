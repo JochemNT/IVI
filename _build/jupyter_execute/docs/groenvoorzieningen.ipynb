{
 "cells": [
  {
   "cell_type": "code",
   "execution_count": 1,
   "metadata": {},
   "outputs": [
    {
     "data": {
      "text/html": [
       "        <script type=\"text/javascript\">\n",
       "        window.PlotlyConfig = {MathJaxConfig: 'local'};\n",
       "        if (window.MathJax && window.MathJax.Hub && window.MathJax.Hub.Config) {window.MathJax.Hub.Config({SVG: {font: \"STIX-Web\"}});}\n",
       "        if (typeof require !== 'undefined') {\n",
       "        require.undef(\"plotly\");\n",
       "        requirejs.config({\n",
       "            paths: {\n",
       "                'plotly': ['https://cdn.plot.ly/plotly-2.32.0.min']\n",
       "            }\n",
       "        });\n",
       "        require(['plotly'], function(Plotly) {\n",
       "            window._Plotly = Plotly;\n",
       "        });\n",
       "        }\n",
       "        </script>\n",
       "        "
      ]
     },
     "metadata": {},
     "output_type": "display_data"
    }
   ],
   "source": [
    "import plotly.graph_objs as go\n",
    "import plotly.express as px\n",
    "import pandas as pd\n",
    "import plotly.graph_objects as go\n",
    "import matplotlib.pyplot as plt\n",
    "from IPython.display import display, HTML\n",
    "\n",
    "from plotly.offline import init_notebook_mode\n",
    "init_notebook_mode(connected=True)"
   ]
  },
  {
   "cell_type": "code",
   "execution_count": 2,
   "metadata": {},
   "outputs": [
    {
     "data": {
      "application/vnd.plotly.v1+json": {
       "config": {
        "plotlyServerURL": "https://plot.ly"
       },
       "data": [
        {
         "hovertemplate": "Gemeente: %{hovertext}<br>Aantal: %{y}",
         "hovertext": [
          "Appingedam",
          "Bedum",
          "Bellingwedde",
          "Ten Boer",
          "Delfzijl",
          "Eemsmond",
          "Groningen (gemeente)",
          "Grootegast",
          "Haren",
          "Hoogezand-Sappemeer",
          "Leek",
          "Loppersum",
          "De Marne",
          "Marum",
          "Menterwolde",
          "Oldambt",
          "Pekela",
          "Slochteren",
          "Stadskanaal",
          "Veendam",
          "Vlagtwedde",
          "Winsum",
          "Zuidhorn",
          "Achtkarspelen",
          "Ameland",
          "het Bildt",
          "Dantumadiel",
          "Dongeradeel",
          "Ferwerderadiel",
          "Franekeradeel",
          "De Fryske Marren",
          "Harlingen",
          "Heerenveen",
          "Kollumerland en Nieuwkruisland",
          "Leeuwarden",
          "Leeuwarderadeel",
          "Littenseradiel",
          "Menameradiel",
          "Ooststellingwerf",
          "Opsterland",
          "Schiermonnikoog",
          "Smallingerland",
          "Súdwest-Fryslân",
          "Terschelling",
          "Tytsjerksteradiel",
          "Vlieland",
          "Weststellingwerf",
          "Aa en Hunze",
          "Assen",
          "Borger-Odoorn",
          "Coevorden",
          "Emmen",
          "Hoogeveen",
          "Meppel",
          "Midden-Drenthe",
          "Noordenveld",
          "Tynaarlo",
          "Westerveld",
          "De Wolden",
          "Almelo",
          "Borne",
          "Dalfsen",
          "Deventer",
          "Dinkelland",
          "Enschede",
          "Haaksbergen",
          "Hardenberg",
          "Hellendoorn",
          "Hengelo (O.)",
          "Hof van Twente",
          "Kampen",
          "Losser",
          "Oldenzaal",
          "Olst-Wijhe",
          "Ommen",
          "Raalte",
          "Rijssen-Holten",
          "Staphorst",
          "Steenwijkerland",
          "Tubbergen",
          "Twenterand",
          "Wierden",
          "Zwartewaterland",
          "Zwolle",
          "Almere",
          "Dronten",
          "Lelystad",
          "Noordoostpolder",
          "Urk",
          "Zeewolde",
          "Aalten",
          "Apeldoorn",
          "Arnhem",
          "Barneveld",
          "Berg en Dal",
          "Berkelland",
          "Beuningen",
          "Bronckhorst",
          "Brummen",
          "Buren",
          "Culemborg",
          "Doesburg",
          "Doetinchem",
          "Druten",
          "Duiven",
          "Ede",
          "Elburg",
          "Epe",
          "Ermelo",
          "Geldermalsen",
          "Harderwijk",
          "Hattem",
          "Heerde",
          "Heumen",
          "Lingewaal",
          "Lingewaard",
          "Lochem",
          "Maasdriel",
          "Montferland",
          "Neder-Betuwe",
          "Neerijnen",
          "Nijkerk",
          "Nijmegen",
          "Nunspeet",
          "Oldebroek",
          "Oost Gelre",
          "Oude IJsselstreek",
          "Overbetuwe",
          "Putten",
          "Renkum",
          "Rheden",
          "Rijnwaarden",
          "Rozendaal",
          "Scherpenzeel",
          "Tiel",
          "Voorst",
          "Wageningen",
          "West Maas en Waal",
          "Westervoort",
          "Wijchen",
          "Winterswijk",
          "Zaltbommel",
          "Zevenaar",
          "Zutphen",
          "Amersfoort",
          "Baarn",
          "De Bilt",
          "Bunnik",
          "Bunschoten",
          "Eemnes",
          "Houten",
          "IJsselstein",
          "Leusden",
          "Lopik",
          "Montfoort",
          "Nieuwegein",
          "Oudewater",
          "Renswoude",
          "Rhenen",
          "De Ronde Venen",
          "Soest",
          "Stichtse Vecht",
          "Utrecht (gemeente)",
          "Utrechtse Heuvelrug",
          "Veenendaal",
          "Vianen",
          "Wijk bij Duurstede",
          "Woerden",
          "Woudenberg",
          "Zeist",
          "Aalsmeer",
          "Alkmaar",
          "Amstelveen",
          "Amsterdam",
          "Beemster",
          "Bergen (NH.)",
          "Beverwijk",
          "Blaricum",
          "Bloemendaal",
          "Castricum",
          "Diemen",
          "Drechterland",
          "Edam-Volendam",
          "Enkhuizen",
          "Gooise Meren",
          "Haarlem",
          "Haarlemmerliede en Spaarnwoude",
          "Haarlemmermeer",
          "Heemskerk",
          "Heemstede",
          "Heerhugowaard",
          "Heiloo",
          "Den Helder",
          "Hilversum",
          "Hollands Kroon",
          "Hoorn",
          "Huizen",
          "Koggenland",
          "Landsmeer",
          "Langedijk",
          "Laren (NH.)",
          "Medemblik",
          "Oostzaan",
          "Opmeer",
          "Ouder-Amstel",
          "Purmerend",
          "Schagen",
          "Stede Broec",
          "Texel",
          "Uitgeest",
          "Uithoorn",
          "Velsen",
          "Waterland",
          "Weesp",
          "Wijdemeren",
          "Wormerland",
          "Zaanstad",
          "Zandvoort",
          "Alblasserdam",
          "Albrandswaard",
          "Alphen aan den Rijn",
          "Barendrecht",
          "Binnenmaas",
          "Bodegraven-Reeuwijk",
          "Brielle",
          "Capelle aan den IJssel",
          "Cromstrijen",
          "Delft",
          "Dordrecht",
          "Giessenlanden",
          "Goeree-Overflakkee",
          "Gorinchem",
          "Gouda",
          "'s-Gravenhage (gemeente)",
          "Hardinxveld-Giessendam",
          "Hellevoetsluis",
          "Hendrik-Ido-Ambacht",
          "Hillegom",
          "Kaag en Braassem",
          "Katwijk",
          "Korendijk",
          "Krimpen aan den IJssel",
          "Krimpenerwaard",
          "Lansingerland",
          "Leerdam",
          "Leiden",
          "Leiderdorp",
          "Leidschendam-Voorburg",
          "Lisse",
          "Maassluis",
          "Midden-Delfland",
          "Molenwaard",
          "Nieuwkoop",
          "Nissewaard",
          "Noordwijk",
          "Noordwijkerhout",
          "Oegstgeest",
          "Oud-Beijerland",
          "Papendrecht",
          "Pijnacker-Nootdorp",
          "Ridderkerk",
          "Rijswijk (ZH.)",
          "Rotterdam",
          "Schiedam",
          "Sliedrecht",
          "Strijen",
          "Teylingen",
          "Vlaardingen",
          "Voorschoten",
          "Waddinxveen",
          "Wassenaar",
          "Westland",
          "Westvoorne",
          "Zederik",
          "Zoetermeer",
          "Zoeterwoude",
          "Zuidplas",
          "Zwijndrecht",
          "Borsele",
          "Goes",
          "Hulst",
          "Kapelle",
          "Middelburg (Z.)",
          "Noord-Beveland",
          "Reimerswaal",
          "Schouwen-Duiveland",
          "Sluis",
          "Terneuzen",
          "Tholen",
          "Veere",
          "Vlissingen",
          "Aalburg",
          "Alphen-Chaam",
          "Asten",
          "Baarle-Nassau",
          "Bergeijk",
          "Bergen op Zoom",
          "Bernheze",
          "Best",
          "Bladel",
          "Boekel",
          "Boxmeer",
          "Boxtel",
          "Breda",
          "Cranendonck",
          "Cuijk",
          "Deurne",
          "Dongen",
          "Drimmelen",
          "Eersel",
          "Eindhoven",
          "Etten-Leur",
          "Geertruidenberg",
          "Geldrop-Mierlo",
          "Gemert-Bakel",
          "Gilze en Rijen",
          "Goirle",
          "Grave",
          "Haaren",
          "Halderberge",
          "Heeze-Leende",
          "Helmond",
          "'s-Hertogenbosch",
          "Heusden",
          "Hilvarenbeek",
          "Laarbeek",
          "Landerd",
          "Loon op Zand",
          "Meierijstad",
          "Mill en Sint Hubert",
          "Moerdijk",
          "Nuenen, Gerwen en Nederwetten",
          "Oirschot",
          "Oisterwijk",
          "Oosterhout",
          "Oss",
          "Reusel-De Mierden",
          "Roosendaal",
          "Rucphen",
          "Sint Anthonis",
          "Sint-Michielsgestel",
          "Someren",
          "Son en Breugel",
          "Steenbergen",
          "Tilburg",
          "Uden",
          "Valkenswaard",
          "Veldhoven",
          "Vught",
          "Waalre",
          "Waalwijk",
          "Werkendam",
          "Woensdrecht",
          "Woudrichem",
          "Zundert",
          "Beek (L.)",
          "Beesel",
          "Bergen (L.)",
          "Brunssum",
          "Echt-Susteren",
          "Eijsden-Margraten",
          "Gennep",
          "Gulpen-Wittem",
          "Heerlen",
          "Horst aan de Maas",
          "Kerkrade",
          "Landgraaf",
          "Leudal",
          "Maasgouw",
          "Maastricht",
          "Meerssen",
          "Mook en Middelaar",
          "Nederweert",
          "Nuth",
          "Onderbanken",
          "Peel en Maas",
          "Roerdalen",
          "Roermond",
          "Schinnen",
          "Simpelveld",
          "Sittard-Geleen",
          "Stein (L.)",
          "Vaals",
          "Valkenburg aan de Geul",
          "Venlo",
          "Venray",
          "Voerendaal",
          "Weert"
         ],
         "legendgroup": "",
         "marker": {
          "color": "green",
          "line": {
           "width": 0
          },
          "size": [
           62,
           100,
           424,
           41,
           680,
           1315,
           306,
           111,
           818,
           621,
           235,
           100,
           3663,
           158,
           295,
           1673,
           143,
           996,
           661,
           51,
           1437,
           28,
           57,
           331,
           3112,
           579,
           508,
           1414,
           1613,
           53,
           2630,
           41,
           1569,
           1590,
           1138,
           65,
           13,
           38,
           4462,
           2959,
           3844,
           585,
           1351,
           6926,
           1046,
           4038,
           2350,
           6628,
           1231,
           4061,
           3590,
           3855,
           1431,
           148,
           6277,
           5049,
           1519,
           10657,
           2526,
           435,
           154,
           1627,
           1584,
           1967,
           2378,
           2220,
           2244,
           4189,
           785,
           3437,
           701,
           1809,
           225,
           898,
           5150,
           1407,
           2437,
           1172,
           7254,
           1134,
           1223,
           1024,
           494,
           438,
           3088,
           3797,
           7149,
           2497,
           205,
           5565,
           420,
           19542,
           3621,
           5320,
           2191,
           2251,
           184,
           3567,
           1559,
           308,
           243,
           30,
           803,
           193,
           25,
           16837,
           2470,
           7234,
           5130,
           700,
           1546,
           445,
           3036,
           995,
           377,
           153,
           3456,
           141,
           1830,
           100,
           280,
           575,
           246,
           8547,
           3021,
           548,
           621,
           257,
           2786,
           1747,
           4163,
           263,
           2621,
           162,
           24,
           903,
           540,
           292,
           13,
           535,
           1991,
           508,
           101,
           630,
           542,
           1645,
           1631,
           223,
           19,
           89,
           199,
           49,
           2047,
           92,
           82,
           96,
           26,
           114,
           1381,
           241,
           1793,
           485,
           189,
           6138,
           57,
           384,
           436,
           69,
           917,
           2216,
           137,
           171,
           467,
           496,
           18,
           4463,
           221,
           264,
           2533,
           1542,
           246,
           31,
           51,
           45,
           949,
           77,
           279,
           216,
           1044,
           143,
           62,
           144,
           554,
           1955,
           942,
           10,
           470,
           55,
           293,
           98,
           659,
           129,
           214,
           26,
           38,
           284,
           1158,
           33,
           4782,
           62,
           13,
           1449,
           121,
           73,
           1137,
           52,
           354,
           2651,
           20,
           276,
           242,
           81,
           282,
           93,
           61,
           3,
           168,
           162,
           1602,
           40,
           4968,
           56,
           19,
           1089,
           67,
           220,
           73,
           18,
           44,
           515,
           1118,
           32,
           355,
           209,
           150,
           16,
           11,
           150,
           153,
           32,
           122,
           286,
           787,
           621,
           1901,
           194,
           22,
           3,
           44,
           358,
           43,
           4,
           765,
           53,
           2,
           323,
           76,
           284,
           68,
           46,
           2649,
           531,
           1703,
           284,
           47,
           15,
           169,
           81,
           313,
           391,
           2982,
           177,
           184,
           526,
           951,
           3983,
           697,
           1217,
           1157,
           1804,
           151,
           150,
           2047,
           1561,
           870,
           2876,
           2169,
           1063,
           744,
           2216,
           134,
           1604,
           1716,
           1584,
           2661,
           272,
           2734,
           38,
           1720,
           2094,
           1017,
           212,
           75,
           700,
           2993,
           1562,
           1063,
           230,
           955,
           279,
           5082,
           947,
           707,
           1546,
           2826,
           559,
           1631,
           1781,
           1665,
           863,
           609,
           550,
           3254,
           1751,
           1425,
           915,
           2341,
           673,
           1278,
           1447,
           426,
           1658,
           487,
           838,
           1906,
           813,
           1895,
           467,
           593,
           830,
           121,
           1541,
           3682,
           171,
           1595,
           67,
           422,
           3896,
           331,
           1478,
           508,
           558,
           804,
           513,
           3587,
           178,
           393,
           2877,
           641,
           261,
           325,
           670,
           1831,
           136,
           418,
           2625,
           2791,
           943,
           188,
           36,
           397,
           105,
           587,
           552,
           2904,
           3028,
           81,
           2432
          ],
          "sizemode": "area",
          "sizeref": 12.21375,
          "symbol": "circle"
         },
         "mode": "markers",
         "name": "",
         "orientation": "v",
         "showlegend": false,
         "type": "scatter",
         "x": [
          "Groningen",
          "Groningen",
          "Groningen",
          "Groningen",
          "Groningen",
          "Groningen",
          "Groningen",
          "Groningen",
          "Groningen",
          "Groningen",
          "Groningen",
          "Groningen",
          "Groningen",
          "Groningen",
          "Groningen",
          "Groningen",
          "Groningen",
          "Groningen",
          "Groningen",
          "Groningen",
          "Groningen",
          "Groningen",
          "Groningen",
          "Friesland",
          "Friesland",
          "Friesland",
          "Friesland",
          "Friesland",
          "Friesland",
          "Friesland",
          "Friesland",
          "Friesland",
          "Friesland",
          "Friesland",
          "Friesland",
          "Friesland",
          "Friesland",
          "Friesland",
          "Friesland",
          "Friesland",
          "Friesland",
          "Friesland",
          "Friesland",
          "Friesland",
          "Friesland",
          "Friesland",
          "Friesland",
          "Drenthe",
          "Drenthe",
          "Drenthe",
          "Drenthe",
          "Drenthe",
          "Drenthe",
          "Drenthe",
          "Drenthe",
          "Drenthe",
          "Drenthe",
          "Drenthe",
          "Drenthe",
          "Overijssel",
          "Overijssel",
          "Overijssel",
          "Overijssel",
          "Overijssel",
          "Overijssel",
          "Overijssel",
          "Overijssel",
          "Overijssel",
          "Overijssel",
          "Overijssel",
          "Overijssel",
          "Overijssel",
          "Overijssel",
          "Overijssel",
          "Overijssel",
          "Overijssel",
          "Overijssel",
          "Overijssel",
          "Overijssel",
          "Overijssel",
          "Overijssel",
          "Overijssel",
          "Overijssel",
          "Overijssel",
          "Flevoland",
          "Flevoland",
          "Flevoland",
          "Flevoland",
          "Flevoland",
          "Flevoland",
          "Gelderland",
          "Gelderland",
          "Gelderland",
          "Gelderland",
          "Gelderland",
          "Gelderland",
          "Gelderland",
          "Gelderland",
          "Gelderland",
          "Gelderland",
          "Gelderland",
          "Gelderland",
          "Gelderland",
          "Gelderland",
          "Gelderland",
          "Gelderland",
          "Gelderland",
          "Gelderland",
          "Gelderland",
          "Gelderland",
          "Gelderland",
          "Gelderland",
          "Gelderland",
          "Gelderland",
          "Gelderland",
          "Gelderland",
          "Gelderland",
          "Gelderland",
          "Gelderland",
          "Gelderland",
          "Gelderland",
          "Gelderland",
          "Gelderland",
          "Gelderland",
          "Gelderland",
          "Gelderland",
          "Gelderland",
          "Gelderland",
          "Gelderland",
          "Gelderland",
          "Gelderland",
          "Gelderland",
          "Gelderland",
          "Gelderland",
          "Gelderland",
          "Gelderland",
          "Gelderland",
          "Gelderland",
          "Gelderland",
          "Gelderland",
          "Gelderland",
          "Gelderland",
          "Gelderland",
          "Gelderland",
          "Utrecht",
          "Utrecht",
          "Utrecht",
          "Utrecht",
          "Utrecht",
          "Utrecht",
          "Utrecht",
          "Utrecht",
          "Utrecht",
          "Utrecht",
          "Utrecht",
          "Utrecht",
          "Utrecht",
          "Utrecht",
          "Utrecht",
          "Utrecht",
          "Utrecht",
          "Utrecht",
          "Utrecht",
          "Utrecht",
          "Utrecht",
          "Utrecht",
          "Utrecht",
          "Utrecht",
          "Utrecht",
          "Utrecht",
          "Noord-Holland",
          "Noord-Holland",
          "Noord-Holland",
          "Noord-Holland",
          "Noord-Holland",
          "Noord-Holland",
          "Noord-Holland",
          "Noord-Holland",
          "Noord-Holland",
          "Noord-Holland",
          "Noord-Holland",
          "Noord-Holland",
          "Noord-Holland",
          "Noord-Holland",
          "Noord-Holland",
          "Noord-Holland",
          "Noord-Holland",
          "Noord-Holland",
          "Noord-Holland",
          "Noord-Holland",
          "Noord-Holland",
          "Noord-Holland",
          "Noord-Holland",
          "Noord-Holland",
          "Noord-Holland",
          "Noord-Holland",
          "Noord-Holland",
          "Noord-Holland",
          "Noord-Holland",
          "Noord-Holland",
          "Noord-Holland",
          "Noord-Holland",
          "Noord-Holland",
          "Noord-Holland",
          "Noord-Holland",
          "Noord-Holland",
          "Noord-Holland",
          "Noord-Holland",
          "Noord-Holland",
          "Noord-Holland",
          "Noord-Holland",
          "Noord-Holland",
          "Noord-Holland",
          "Noord-Holland",
          "Noord-Holland",
          "Noord-Holland",
          "Noord-Holland",
          "Noord-Holland",
          "Zuid-Holland",
          "Zuid-Holland",
          "Zuid-Holland",
          "Zuid-Holland",
          "Zuid-Holland",
          "Zuid-Holland",
          "Zuid-Holland",
          "Zuid-Holland",
          "Zuid-Holland",
          "Zuid-Holland",
          "Zuid-Holland",
          "Zuid-Holland",
          "Zuid-Holland",
          "Zuid-Holland",
          "Zuid-Holland",
          "Zuid-Holland",
          "Zuid-Holland",
          "Zuid-Holland",
          "Zuid-Holland",
          "Zuid-Holland",
          "Zuid-Holland",
          "Zuid-Holland",
          "Zuid-Holland",
          "Zuid-Holland",
          "Zuid-Holland",
          "Zuid-Holland",
          "Zuid-Holland",
          "Zuid-Holland",
          "Zuid-Holland",
          "Zuid-Holland",
          "Zuid-Holland",
          "Zuid-Holland",
          "Zuid-Holland",
          "Zuid-Holland",
          "Zuid-Holland",
          "Zuid-Holland",
          "Zuid-Holland",
          "Zuid-Holland",
          "Zuid-Holland",
          "Zuid-Holland",
          "Zuid-Holland",
          "Zuid-Holland",
          "Zuid-Holland",
          "Zuid-Holland",
          "Zuid-Holland",
          "Zuid-Holland",
          "Zuid-Holland",
          "Zuid-Holland",
          "Zuid-Holland",
          "Zuid-Holland",
          "Zuid-Holland",
          "Zuid-Holland",
          "Zuid-Holland",
          "Zuid-Holland",
          "Zuid-Holland",
          "Zuid-Holland",
          "Zuid-Holland",
          "Zuid-Holland",
          "Zuid-Holland",
          "Zuid-Holland",
          "Zeeland",
          "Zeeland",
          "Zeeland",
          "Zeeland",
          "Zeeland",
          "Zeeland",
          "Zeeland",
          "Zeeland",
          "Zeeland",
          "Zeeland",
          "Zeeland",
          "Zeeland",
          "Zeeland",
          "Noord-Brabant",
          "Noord-Brabant",
          "Noord-Brabant",
          "Noord-Brabant",
          "Noord-Brabant",
          "Noord-Brabant",
          "Noord-Brabant",
          "Noord-Brabant",
          "Noord-Brabant",
          "Noord-Brabant",
          "Noord-Brabant",
          "Noord-Brabant",
          "Noord-Brabant",
          "Noord-Brabant",
          "Noord-Brabant",
          "Noord-Brabant",
          "Noord-Brabant",
          "Noord-Brabant",
          "Noord-Brabant",
          "Noord-Brabant",
          "Noord-Brabant",
          "Noord-Brabant",
          "Noord-Brabant",
          "Noord-Brabant",
          "Noord-Brabant",
          "Noord-Brabant",
          "Noord-Brabant",
          "Noord-Brabant",
          "Noord-Brabant",
          "Noord-Brabant",
          "Noord-Brabant",
          "Noord-Brabant",
          "Noord-Brabant",
          "Noord-Brabant",
          "Noord-Brabant",
          "Noord-Brabant",
          "Noord-Brabant",
          "Noord-Brabant",
          "Noord-Brabant",
          "Noord-Brabant",
          "Noord-Brabant",
          "Noord-Brabant",
          "Noord-Brabant",
          "Noord-Brabant",
          "Noord-Brabant",
          "Noord-Brabant",
          "Noord-Brabant",
          "Noord-Brabant",
          "Noord-Brabant",
          "Noord-Brabant",
          "Noord-Brabant",
          "Noord-Brabant",
          "Noord-Brabant",
          "Noord-Brabant",
          "Noord-Brabant",
          "Noord-Brabant",
          "Noord-Brabant",
          "Noord-Brabant",
          "Noord-Brabant",
          "Noord-Brabant",
          "Noord-Brabant",
          "Noord-Brabant",
          "Noord-Brabant",
          "Noord-Brabant",
          "Limburg",
          "Limburg",
          "Limburg",
          "Limburg",
          "Limburg",
          "Limburg",
          "Limburg",
          "Limburg",
          "Limburg",
          "Limburg",
          "Limburg",
          "Limburg",
          "Limburg",
          "Limburg",
          "Limburg",
          "Limburg",
          "Limburg",
          "Limburg",
          "Limburg",
          "Limburg",
          "Limburg",
          "Limburg",
          "Limburg",
          "Limburg",
          "Limburg",
          "Limburg",
          "Limburg",
          "Limburg",
          "Limburg",
          "Limburg",
          "Limburg",
          "Limburg",
          "Limburg"
         ],
         "xaxis": "x",
         "y": [
          62,
          100,
          424,
          41,
          680,
          1315,
          306,
          111,
          818,
          621,
          235,
          100,
          3663,
          158,
          295,
          1673,
          143,
          996,
          661,
          51,
          1437,
          28,
          57,
          331,
          3112,
          579,
          508,
          1414,
          1613,
          53,
          2630,
          41,
          1569,
          1590,
          1138,
          65,
          13,
          38,
          4462,
          2959,
          3844,
          585,
          1351,
          6926,
          1046,
          4038,
          2350,
          6628,
          1231,
          4061,
          3590,
          3855,
          1431,
          148,
          6277,
          5049,
          1519,
          10657,
          2526,
          435,
          154,
          1627,
          1584,
          1967,
          2378,
          2220,
          2244,
          4189,
          785,
          3437,
          701,
          1809,
          225,
          898,
          5150,
          1407,
          2437,
          1172,
          7254,
          1134,
          1223,
          1024,
          494,
          438,
          3088,
          3797,
          7149,
          2497,
          205,
          5565,
          420,
          19542,
          3621,
          5320,
          2191,
          2251,
          184,
          3567,
          1559,
          308,
          243,
          30,
          803,
          193,
          25,
          16837,
          2470,
          7234,
          5130,
          700,
          1546,
          445,
          3036,
          995,
          377,
          153,
          3456,
          141,
          1830,
          100,
          280,
          575,
          246,
          8547,
          3021,
          548,
          621,
          257,
          2786,
          1747,
          4163,
          263,
          2621,
          162,
          24,
          903,
          540,
          292,
          13,
          535,
          1991,
          508,
          101,
          630,
          542,
          1645,
          1631,
          223,
          19,
          89,
          199,
          49,
          2047,
          92,
          82,
          96,
          26,
          114,
          1381,
          241,
          1793,
          485,
          189,
          6138,
          57,
          384,
          436,
          69,
          917,
          2216,
          137,
          171,
          467,
          496,
          18,
          4463,
          221,
          264,
          2533,
          1542,
          246,
          31,
          51,
          45,
          949,
          77,
          279,
          216,
          1044,
          143,
          62,
          144,
          554,
          1955,
          942,
          10,
          470,
          55,
          293,
          98,
          659,
          129,
          214,
          26,
          38,
          284,
          1158,
          33,
          4782,
          62,
          13,
          1449,
          121,
          73,
          1137,
          52,
          354,
          2651,
          20,
          276,
          242,
          81,
          282,
          93,
          61,
          3,
          168,
          162,
          1602,
          40,
          4968,
          56,
          19,
          1089,
          67,
          220,
          73,
          18,
          44,
          515,
          1118,
          32,
          355,
          209,
          150,
          16,
          11,
          150,
          153,
          32,
          122,
          286,
          787,
          621,
          1901,
          194,
          22,
          3,
          44,
          358,
          43,
          4,
          765,
          53,
          2,
          323,
          76,
          284,
          68,
          46,
          2649,
          531,
          1703,
          284,
          47,
          15,
          169,
          81,
          313,
          391,
          2982,
          177,
          184,
          526,
          951,
          3983,
          697,
          1217,
          1157,
          1804,
          151,
          150,
          2047,
          1561,
          870,
          2876,
          2169,
          1063,
          744,
          2216,
          134,
          1604,
          1716,
          1584,
          2661,
          272,
          2734,
          38,
          1720,
          2094,
          1017,
          212,
          75,
          700,
          2993,
          1562,
          1063,
          230,
          955,
          279,
          5082,
          947,
          707,
          1546,
          2826,
          559,
          1631,
          1781,
          1665,
          863,
          609,
          550,
          3254,
          1751,
          1425,
          915,
          2341,
          673,
          1278,
          1447,
          426,
          1658,
          487,
          838,
          1906,
          813,
          1895,
          467,
          593,
          830,
          121,
          1541,
          3682,
          171,
          1595,
          67,
          422,
          3896,
          331,
          1478,
          508,
          558,
          804,
          513,
          3587,
          178,
          393,
          2877,
          641,
          261,
          325,
          670,
          1831,
          136,
          418,
          2625,
          2791,
          943,
          188,
          36,
          397,
          105,
          587,
          552,
          2904,
          3028,
          81,
          2432
         ],
         "yaxis": "y"
        }
       ],
       "layout": {
        "height": 600,
        "legend": {
         "itemsizing": "constant",
         "tracegroupgap": 0
        },
        "paper_bgcolor": "#fbf2e2",
        "plot_bgcolor": "#fbf2e2",
        "template": {
         "data": {
          "bar": [
           {
            "error_x": {
             "color": "#2a3f5f"
            },
            "error_y": {
             "color": "#2a3f5f"
            },
            "marker": {
             "line": {
              "color": "#E5ECF6",
              "width": 0.5
             },
             "pattern": {
              "fillmode": "overlay",
              "size": 10,
              "solidity": 0.2
             }
            },
            "type": "bar"
           }
          ],
          "barpolar": [
           {
            "marker": {
             "line": {
              "color": "#E5ECF6",
              "width": 0.5
             },
             "pattern": {
              "fillmode": "overlay",
              "size": 10,
              "solidity": 0.2
             }
            },
            "type": "barpolar"
           }
          ],
          "carpet": [
           {
            "aaxis": {
             "endlinecolor": "#2a3f5f",
             "gridcolor": "white",
             "linecolor": "white",
             "minorgridcolor": "white",
             "startlinecolor": "#2a3f5f"
            },
            "baxis": {
             "endlinecolor": "#2a3f5f",
             "gridcolor": "white",
             "linecolor": "white",
             "minorgridcolor": "white",
             "startlinecolor": "#2a3f5f"
            },
            "type": "carpet"
           }
          ],
          "choropleth": [
           {
            "colorbar": {
             "outlinewidth": 0,
             "ticks": ""
            },
            "type": "choropleth"
           }
          ],
          "contour": [
           {
            "colorbar": {
             "outlinewidth": 0,
             "ticks": ""
            },
            "colorscale": [
             [
              0.0,
              "#0d0887"
             ],
             [
              0.1111111111111111,
              "#46039f"
             ],
             [
              0.2222222222222222,
              "#7201a8"
             ],
             [
              0.3333333333333333,
              "#9c179e"
             ],
             [
              0.4444444444444444,
              "#bd3786"
             ],
             [
              0.5555555555555556,
              "#d8576b"
             ],
             [
              0.6666666666666666,
              "#ed7953"
             ],
             [
              0.7777777777777778,
              "#fb9f3a"
             ],
             [
              0.8888888888888888,
              "#fdca26"
             ],
             [
              1.0,
              "#f0f921"
             ]
            ],
            "type": "contour"
           }
          ],
          "contourcarpet": [
           {
            "colorbar": {
             "outlinewidth": 0,
             "ticks": ""
            },
            "type": "contourcarpet"
           }
          ],
          "heatmap": [
           {
            "colorbar": {
             "outlinewidth": 0,
             "ticks": ""
            },
            "colorscale": [
             [
              0.0,
              "#0d0887"
             ],
             [
              0.1111111111111111,
              "#46039f"
             ],
             [
              0.2222222222222222,
              "#7201a8"
             ],
             [
              0.3333333333333333,
              "#9c179e"
             ],
             [
              0.4444444444444444,
              "#bd3786"
             ],
             [
              0.5555555555555556,
              "#d8576b"
             ],
             [
              0.6666666666666666,
              "#ed7953"
             ],
             [
              0.7777777777777778,
              "#fb9f3a"
             ],
             [
              0.8888888888888888,
              "#fdca26"
             ],
             [
              1.0,
              "#f0f921"
             ]
            ],
            "type": "heatmap"
           }
          ],
          "heatmapgl": [
           {
            "colorbar": {
             "outlinewidth": 0,
             "ticks": ""
            },
            "colorscale": [
             [
              0.0,
              "#0d0887"
             ],
             [
              0.1111111111111111,
              "#46039f"
             ],
             [
              0.2222222222222222,
              "#7201a8"
             ],
             [
              0.3333333333333333,
              "#9c179e"
             ],
             [
              0.4444444444444444,
              "#bd3786"
             ],
             [
              0.5555555555555556,
              "#d8576b"
             ],
             [
              0.6666666666666666,
              "#ed7953"
             ],
             [
              0.7777777777777778,
              "#fb9f3a"
             ],
             [
              0.8888888888888888,
              "#fdca26"
             ],
             [
              1.0,
              "#f0f921"
             ]
            ],
            "type": "heatmapgl"
           }
          ],
          "histogram": [
           {
            "marker": {
             "pattern": {
              "fillmode": "overlay",
              "size": 10,
              "solidity": 0.2
             }
            },
            "type": "histogram"
           }
          ],
          "histogram2d": [
           {
            "colorbar": {
             "outlinewidth": 0,
             "ticks": ""
            },
            "colorscale": [
             [
              0.0,
              "#0d0887"
             ],
             [
              0.1111111111111111,
              "#46039f"
             ],
             [
              0.2222222222222222,
              "#7201a8"
             ],
             [
              0.3333333333333333,
              "#9c179e"
             ],
             [
              0.4444444444444444,
              "#bd3786"
             ],
             [
              0.5555555555555556,
              "#d8576b"
             ],
             [
              0.6666666666666666,
              "#ed7953"
             ],
             [
              0.7777777777777778,
              "#fb9f3a"
             ],
             [
              0.8888888888888888,
              "#fdca26"
             ],
             [
              1.0,
              "#f0f921"
             ]
            ],
            "type": "histogram2d"
           }
          ],
          "histogram2dcontour": [
           {
            "colorbar": {
             "outlinewidth": 0,
             "ticks": ""
            },
            "colorscale": [
             [
              0.0,
              "#0d0887"
             ],
             [
              0.1111111111111111,
              "#46039f"
             ],
             [
              0.2222222222222222,
              "#7201a8"
             ],
             [
              0.3333333333333333,
              "#9c179e"
             ],
             [
              0.4444444444444444,
              "#bd3786"
             ],
             [
              0.5555555555555556,
              "#d8576b"
             ],
             [
              0.6666666666666666,
              "#ed7953"
             ],
             [
              0.7777777777777778,
              "#fb9f3a"
             ],
             [
              0.8888888888888888,
              "#fdca26"
             ],
             [
              1.0,
              "#f0f921"
             ]
            ],
            "type": "histogram2dcontour"
           }
          ],
          "mesh3d": [
           {
            "colorbar": {
             "outlinewidth": 0,
             "ticks": ""
            },
            "type": "mesh3d"
           }
          ],
          "parcoords": [
           {
            "line": {
             "colorbar": {
              "outlinewidth": 0,
              "ticks": ""
             }
            },
            "type": "parcoords"
           }
          ],
          "pie": [
           {
            "automargin": true,
            "type": "pie"
           }
          ],
          "scatter": [
           {
            "fillpattern": {
             "fillmode": "overlay",
             "size": 10,
             "solidity": 0.2
            },
            "type": "scatter"
           }
          ],
          "scatter3d": [
           {
            "line": {
             "colorbar": {
              "outlinewidth": 0,
              "ticks": ""
             }
            },
            "marker": {
             "colorbar": {
              "outlinewidth": 0,
              "ticks": ""
             }
            },
            "type": "scatter3d"
           }
          ],
          "scattercarpet": [
           {
            "marker": {
             "colorbar": {
              "outlinewidth": 0,
              "ticks": ""
             }
            },
            "type": "scattercarpet"
           }
          ],
          "scattergeo": [
           {
            "marker": {
             "colorbar": {
              "outlinewidth": 0,
              "ticks": ""
             }
            },
            "type": "scattergeo"
           }
          ],
          "scattergl": [
           {
            "marker": {
             "colorbar": {
              "outlinewidth": 0,
              "ticks": ""
             }
            },
            "type": "scattergl"
           }
          ],
          "scattermapbox": [
           {
            "marker": {
             "colorbar": {
              "outlinewidth": 0,
              "ticks": ""
             }
            },
            "type": "scattermapbox"
           }
          ],
          "scatterpolar": [
           {
            "marker": {
             "colorbar": {
              "outlinewidth": 0,
              "ticks": ""
             }
            },
            "type": "scatterpolar"
           }
          ],
          "scatterpolargl": [
           {
            "marker": {
             "colorbar": {
              "outlinewidth": 0,
              "ticks": ""
             }
            },
            "type": "scatterpolargl"
           }
          ],
          "scatterternary": [
           {
            "marker": {
             "colorbar": {
              "outlinewidth": 0,
              "ticks": ""
             }
            },
            "type": "scatterternary"
           }
          ],
          "surface": [
           {
            "colorbar": {
             "outlinewidth": 0,
             "ticks": ""
            },
            "colorscale": [
             [
              0.0,
              "#0d0887"
             ],
             [
              0.1111111111111111,
              "#46039f"
             ],
             [
              0.2222222222222222,
              "#7201a8"
             ],
             [
              0.3333333333333333,
              "#9c179e"
             ],
             [
              0.4444444444444444,
              "#bd3786"
             ],
             [
              0.5555555555555556,
              "#d8576b"
             ],
             [
              0.6666666666666666,
              "#ed7953"
             ],
             [
              0.7777777777777778,
              "#fb9f3a"
             ],
             [
              0.8888888888888888,
              "#fdca26"
             ],
             [
              1.0,
              "#f0f921"
             ]
            ],
            "type": "surface"
           }
          ],
          "table": [
           {
            "cells": {
             "fill": {
              "color": "#EBF0F8"
             },
             "line": {
              "color": "white"
             }
            },
            "header": {
             "fill": {
              "color": "#C8D4E3"
             },
             "line": {
              "color": "white"
             }
            },
            "type": "table"
           }
          ]
         },
         "layout": {
          "annotationdefaults": {
           "arrowcolor": "#2a3f5f",
           "arrowhead": 0,
           "arrowwidth": 1
          },
          "autotypenumbers": "strict",
          "coloraxis": {
           "colorbar": {
            "outlinewidth": 0,
            "ticks": ""
           }
          },
          "colorscale": {
           "diverging": [
            [
             0,
             "#8e0152"
            ],
            [
             0.1,
             "#c51b7d"
            ],
            [
             0.2,
             "#de77ae"
            ],
            [
             0.3,
             "#f1b6da"
            ],
            [
             0.4,
             "#fde0ef"
            ],
            [
             0.5,
             "#f7f7f7"
            ],
            [
             0.6,
             "#e6f5d0"
            ],
            [
             0.7,
             "#b8e186"
            ],
            [
             0.8,
             "#7fbc41"
            ],
            [
             0.9,
             "#4d9221"
            ],
            [
             1,
             "#276419"
            ]
           ],
           "sequential": [
            [
             0.0,
             "#0d0887"
            ],
            [
             0.1111111111111111,
             "#46039f"
            ],
            [
             0.2222222222222222,
             "#7201a8"
            ],
            [
             0.3333333333333333,
             "#9c179e"
            ],
            [
             0.4444444444444444,
             "#bd3786"
            ],
            [
             0.5555555555555556,
             "#d8576b"
            ],
            [
             0.6666666666666666,
             "#ed7953"
            ],
            [
             0.7777777777777778,
             "#fb9f3a"
            ],
            [
             0.8888888888888888,
             "#fdca26"
            ],
            [
             1.0,
             "#f0f921"
            ]
           ],
           "sequentialminus": [
            [
             0.0,
             "#0d0887"
            ],
            [
             0.1111111111111111,
             "#46039f"
            ],
            [
             0.2222222222222222,
             "#7201a8"
            ],
            [
             0.3333333333333333,
             "#9c179e"
            ],
            [
             0.4444444444444444,
             "#bd3786"
            ],
            [
             0.5555555555555556,
             "#d8576b"
            ],
            [
             0.6666666666666666,
             "#ed7953"
            ],
            [
             0.7777777777777778,
             "#fb9f3a"
            ],
            [
             0.8888888888888888,
             "#fdca26"
            ],
            [
             1.0,
             "#f0f921"
            ]
           ]
          },
          "colorway": [
           "#636efa",
           "#EF553B",
           "#00cc96",
           "#ab63fa",
           "#FFA15A",
           "#19d3f3",
           "#FF6692",
           "#B6E880",
           "#FF97FF",
           "#FECB52"
          ],
          "font": {
           "color": "#2a3f5f"
          },
          "geo": {
           "bgcolor": "white",
           "lakecolor": "white",
           "landcolor": "#E5ECF6",
           "showlakes": true,
           "showland": true,
           "subunitcolor": "white"
          },
          "hoverlabel": {
           "align": "left"
          },
          "hovermode": "closest",
          "mapbox": {
           "style": "light"
          },
          "paper_bgcolor": "white",
          "plot_bgcolor": "#E5ECF6",
          "polar": {
           "angularaxis": {
            "gridcolor": "white",
            "linecolor": "white",
            "ticks": ""
           },
           "bgcolor": "#E5ECF6",
           "radialaxis": {
            "gridcolor": "white",
            "linecolor": "white",
            "ticks": ""
           }
          },
          "scene": {
           "xaxis": {
            "backgroundcolor": "#E5ECF6",
            "gridcolor": "white",
            "gridwidth": 2,
            "linecolor": "white",
            "showbackground": true,
            "ticks": "",
            "zerolinecolor": "white"
           },
           "yaxis": {
            "backgroundcolor": "#E5ECF6",
            "gridcolor": "white",
            "gridwidth": 2,
            "linecolor": "white",
            "showbackground": true,
            "ticks": "",
            "zerolinecolor": "white"
           },
           "zaxis": {
            "backgroundcolor": "#E5ECF6",
            "gridcolor": "white",
            "gridwidth": 2,
            "linecolor": "white",
            "showbackground": true,
            "ticks": "",
            "zerolinecolor": "white"
           }
          },
          "shapedefaults": {
           "line": {
            "color": "#2a3f5f"
           }
          },
          "ternary": {
           "aaxis": {
            "gridcolor": "white",
            "linecolor": "white",
            "ticks": ""
           },
           "baxis": {
            "gridcolor": "white",
            "linecolor": "white",
            "ticks": ""
           },
           "bgcolor": "#E5ECF6",
           "caxis": {
            "gridcolor": "white",
            "linecolor": "white",
            "ticks": ""
           }
          },
          "title": {
           "x": 0.05
          },
          "xaxis": {
           "automargin": true,
           "gridcolor": "white",
           "linecolor": "white",
           "ticks": "",
           "title": {
            "standoff": 15
           },
           "zerolinecolor": "white",
           "zerolinewidth": 2
          },
          "yaxis": {
           "automargin": true,
           "gridcolor": "white",
           "linecolor": "white",
           "ticks": "",
           "title": {
            "standoff": 15
           },
           "zerolinecolor": "white",
           "zerolinewidth": 2
          }
         }
        },
        "title": {
         "text": "Aantal hectaren groen per gemeente per provincie"
        },
        "width": 750,
        "xaxis": {
         "anchor": "y",
         "domain": [
          0.0,
          1.0
         ],
         "tickangle": -55,
         "title": {
          "text": "Provincie"
         }
        },
        "yaxis": {
         "anchor": "x",
         "domain": [
          0.0,
          1.0
         ],
         "title": {
          "text": "Totaal bos en open natuurlijk terrein (ha)"
         }
        }
       }
      },
      "text/html": [
       "<div>                            <div id=\"5dcf10d0-6bea-4f1f-9ddb-fbcdf7cc1de5\" class=\"plotly-graph-div\" style=\"height:600px; width:750px;\"></div>            <script type=\"text/javascript\">                require([\"plotly\"], function(Plotly) {                    window.PLOTLYENV=window.PLOTLYENV || {};                                    if (document.getElementById(\"5dcf10d0-6bea-4f1f-9ddb-fbcdf7cc1de5\")) {                    Plotly.newPlot(                        \"5dcf10d0-6bea-4f1f-9ddb-fbcdf7cc1de5\",                        [{\"hovertemplate\":\"Gemeente: %{hovertext}\\u003cbr\\u003eAantal: %{y}\",\"hovertext\":[\"Appingedam\",\"Bedum\",\"Bellingwedde\",\"Ten Boer\",\"Delfzijl\",\"Eemsmond\",\"Groningen (gemeente)\",\"Grootegast\",\"Haren\",\"Hoogezand-Sappemeer\",\"Leek\",\"Loppersum\",\"De Marne\",\"Marum\",\"Menterwolde\",\"Oldambt\",\"Pekela\",\"Slochteren\",\"Stadskanaal\",\"Veendam\",\"Vlagtwedde\",\"Winsum\",\"Zuidhorn\",\"Achtkarspelen\",\"Ameland\",\"het Bildt\",\"Dantumadiel\",\"Dongeradeel\",\"Ferwerderadiel\",\"Franekeradeel\",\"De Fryske Marren\",\"Harlingen\",\"Heerenveen\",\"Kollumerland en Nieuwkruisland\",\"Leeuwarden\",\"Leeuwarderadeel\",\"Littenseradiel\",\"Menameradiel\",\"Ooststellingwerf\",\"Opsterland\",\"Schiermonnikoog\",\"Smallingerland\",\"S\\u00fadwest-Frysl\\u00e2n\",\"Terschelling\",\"Tytsjerksteradiel\",\"Vlieland\",\"Weststellingwerf\",\"Aa en Hunze\",\"Assen\",\"Borger-Odoorn\",\"Coevorden\",\"Emmen\",\"Hoogeveen\",\"Meppel\",\"Midden-Drenthe\",\"Noordenveld\",\"Tynaarlo\",\"Westerveld\",\"De Wolden\",\"Almelo\",\"Borne\",\"Dalfsen\",\"Deventer\",\"Dinkelland\",\"Enschede\",\"Haaksbergen\",\"Hardenberg\",\"Hellendoorn\",\"Hengelo (O.)\",\"Hof van Twente\",\"Kampen\",\"Losser\",\"Oldenzaal\",\"Olst-Wijhe\",\"Ommen\",\"Raalte\",\"Rijssen-Holten\",\"Staphorst\",\"Steenwijkerland\",\"Tubbergen\",\"Twenterand\",\"Wierden\",\"Zwartewaterland\",\"Zwolle\",\"Almere\",\"Dronten\",\"Lelystad\",\"Noordoostpolder\",\"Urk\",\"Zeewolde\",\"Aalten\",\"Apeldoorn\",\"Arnhem\",\"Barneveld\",\"Berg en Dal\",\"Berkelland\",\"Beuningen\",\"Bronckhorst\",\"Brummen\",\"Buren\",\"Culemborg\",\"Doesburg\",\"Doetinchem\",\"Druten\",\"Duiven\",\"Ede\",\"Elburg\",\"Epe\",\"Ermelo\",\"Geldermalsen\",\"Harderwijk\",\"Hattem\",\"Heerde\",\"Heumen\",\"Lingewaal\",\"Lingewaard\",\"Lochem\",\"Maasdriel\",\"Montferland\",\"Neder-Betuwe\",\"Neerijnen\",\"Nijkerk\",\"Nijmegen\",\"Nunspeet\",\"Oldebroek\",\"Oost Gelre\",\"Oude IJsselstreek\",\"Overbetuwe\",\"Putten\",\"Renkum\",\"Rheden\",\"Rijnwaarden\",\"Rozendaal\",\"Scherpenzeel\",\"Tiel\",\"Voorst\",\"Wageningen\",\"West Maas en Waal\",\"Westervoort\",\"Wijchen\",\"Winterswijk\",\"Zaltbommel\",\"Zevenaar\",\"Zutphen\",\"Amersfoort\",\"Baarn\",\"De Bilt\",\"Bunnik\",\"Bunschoten\",\"Eemnes\",\"Houten\",\"IJsselstein\",\"Leusden\",\"Lopik\",\"Montfoort\",\"Nieuwegein\",\"Oudewater\",\"Renswoude\",\"Rhenen\",\"De Ronde Venen\",\"Soest\",\"Stichtse Vecht\",\"Utrecht (gemeente)\",\"Utrechtse Heuvelrug\",\"Veenendaal\",\"Vianen\",\"Wijk bij Duurstede\",\"Woerden\",\"Woudenberg\",\"Zeist\",\"Aalsmeer\",\"Alkmaar\",\"Amstelveen\",\"Amsterdam\",\"Beemster\",\"Bergen (NH.)\",\"Beverwijk\",\"Blaricum\",\"Bloemendaal\",\"Castricum\",\"Diemen\",\"Drechterland\",\"Edam-Volendam\",\"Enkhuizen\",\"Gooise Meren\",\"Haarlem\",\"Haarlemmerliede en Spaarnwoude\",\"Haarlemmermeer\",\"Heemskerk\",\"Heemstede\",\"Heerhugowaard\",\"Heiloo\",\"Den Helder\",\"Hilversum\",\"Hollands Kroon\",\"Hoorn\",\"Huizen\",\"Koggenland\",\"Landsmeer\",\"Langedijk\",\"Laren (NH.)\",\"Medemblik\",\"Oostzaan\",\"Opmeer\",\"Ouder-Amstel\",\"Purmerend\",\"Schagen\",\"Stede Broec\",\"Texel\",\"Uitgeest\",\"Uithoorn\",\"Velsen\",\"Waterland\",\"Weesp\",\"Wijdemeren\",\"Wormerland\",\"Zaanstad\",\"Zandvoort\",\"Alblasserdam\",\"Albrandswaard\",\"Alphen aan den Rijn\",\"Barendrecht\",\"Binnenmaas\",\"Bodegraven-Reeuwijk\",\"Brielle\",\"Capelle aan den IJssel\",\"Cromstrijen\",\"Delft\",\"Dordrecht\",\"Giessenlanden\",\"Goeree-Overflakkee\",\"Gorinchem\",\"Gouda\",\"'s-Gravenhage (gemeente)\",\"Hardinxveld-Giessendam\",\"Hellevoetsluis\",\"Hendrik-Ido-Ambacht\",\"Hillegom\",\"Kaag en Braassem\",\"Katwijk\",\"Korendijk\",\"Krimpen aan den IJssel\",\"Krimpenerwaard\",\"Lansingerland\",\"Leerdam\",\"Leiden\",\"Leiderdorp\",\"Leidschendam-Voorburg\",\"Lisse\",\"Maassluis\",\"Midden-Delfland\",\"Molenwaard\",\"Nieuwkoop\",\"Nissewaard\",\"Noordwijk\",\"Noordwijkerhout\",\"Oegstgeest\",\"Oud-Beijerland\",\"Papendrecht\",\"Pijnacker-Nootdorp\",\"Ridderkerk\",\"Rijswijk (ZH.)\",\"Rotterdam\",\"Schiedam\",\"Sliedrecht\",\"Strijen\",\"Teylingen\",\"Vlaardingen\",\"Voorschoten\",\"Waddinxveen\",\"Wassenaar\",\"Westland\",\"Westvoorne\",\"Zederik\",\"Zoetermeer\",\"Zoeterwoude\",\"Zuidplas\",\"Zwijndrecht\",\"Borsele\",\"Goes\",\"Hulst\",\"Kapelle\",\"Middelburg (Z.)\",\"Noord-Beveland\",\"Reimerswaal\",\"Schouwen-Duiveland\",\"Sluis\",\"Terneuzen\",\"Tholen\",\"Veere\",\"Vlissingen\",\"Aalburg\",\"Alphen-Chaam\",\"Asten\",\"Baarle-Nassau\",\"Bergeijk\",\"Bergen op Zoom\",\"Bernheze\",\"Best\",\"Bladel\",\"Boekel\",\"Boxmeer\",\"Boxtel\",\"Breda\",\"Cranendonck\",\"Cuijk\",\"Deurne\",\"Dongen\",\"Drimmelen\",\"Eersel\",\"Eindhoven\",\"Etten-Leur\",\"Geertruidenberg\",\"Geldrop-Mierlo\",\"Gemert-Bakel\",\"Gilze en Rijen\",\"Goirle\",\"Grave\",\"Haaren\",\"Halderberge\",\"Heeze-Leende\",\"Helmond\",\"'s-Hertogenbosch\",\"Heusden\",\"Hilvarenbeek\",\"Laarbeek\",\"Landerd\",\"Loon op Zand\",\"Meierijstad\",\"Mill en Sint Hubert\",\"Moerdijk\",\"Nuenen, Gerwen en Nederwetten\",\"Oirschot\",\"Oisterwijk\",\"Oosterhout\",\"Oss\",\"Reusel-De Mierden\",\"Roosendaal\",\"Rucphen\",\"Sint Anthonis\",\"Sint-Michielsgestel\",\"Someren\",\"Son en Breugel\",\"Steenbergen\",\"Tilburg\",\"Uden\",\"Valkenswaard\",\"Veldhoven\",\"Vught\",\"Waalre\",\"Waalwijk\",\"Werkendam\",\"Woensdrecht\",\"Woudrichem\",\"Zundert\",\"Beek (L.)\",\"Beesel\",\"Bergen (L.)\",\"Brunssum\",\"Echt-Susteren\",\"Eijsden-Margraten\",\"Gennep\",\"Gulpen-Wittem\",\"Heerlen\",\"Horst aan de Maas\",\"Kerkrade\",\"Landgraaf\",\"Leudal\",\"Maasgouw\",\"Maastricht\",\"Meerssen\",\"Mook en Middelaar\",\"Nederweert\",\"Nuth\",\"Onderbanken\",\"Peel en Maas\",\"Roerdalen\",\"Roermond\",\"Schinnen\",\"Simpelveld\",\"Sittard-Geleen\",\"Stein (L.)\",\"Vaals\",\"Valkenburg aan de Geul\",\"Venlo\",\"Venray\",\"Voerendaal\",\"Weert\"],\"legendgroup\":\"\",\"marker\":{\"color\":\"green\",\"size\":[62,100,424,41,680,1315,306,111,818,621,235,100,3663,158,295,1673,143,996,661,51,1437,28,57,331,3112,579,508,1414,1613,53,2630,41,1569,1590,1138,65,13,38,4462,2959,3844,585,1351,6926,1046,4038,2350,6628,1231,4061,3590,3855,1431,148,6277,5049,1519,10657,2526,435,154,1627,1584,1967,2378,2220,2244,4189,785,3437,701,1809,225,898,5150,1407,2437,1172,7254,1134,1223,1024,494,438,3088,3797,7149,2497,205,5565,420,19542,3621,5320,2191,2251,184,3567,1559,308,243,30,803,193,25,16837,2470,7234,5130,700,1546,445,3036,995,377,153,3456,141,1830,100,280,575,246,8547,3021,548,621,257,2786,1747,4163,263,2621,162,24,903,540,292,13,535,1991,508,101,630,542,1645,1631,223,19,89,199,49,2047,92,82,96,26,114,1381,241,1793,485,189,6138,57,384,436,69,917,2216,137,171,467,496,18,4463,221,264,2533,1542,246,31,51,45,949,77,279,216,1044,143,62,144,554,1955,942,10,470,55,293,98,659,129,214,26,38,284,1158,33,4782,62,13,1449,121,73,1137,52,354,2651,20,276,242,81,282,93,61,3,168,162,1602,40,4968,56,19,1089,67,220,73,18,44,515,1118,32,355,209,150,16,11,150,153,32,122,286,787,621,1901,194,22,3,44,358,43,4,765,53,2,323,76,284,68,46,2649,531,1703,284,47,15,169,81,313,391,2982,177,184,526,951,3983,697,1217,1157,1804,151,150,2047,1561,870,2876,2169,1063,744,2216,134,1604,1716,1584,2661,272,2734,38,1720,2094,1017,212,75,700,2993,1562,1063,230,955,279,5082,947,707,1546,2826,559,1631,1781,1665,863,609,550,3254,1751,1425,915,2341,673,1278,1447,426,1658,487,838,1906,813,1895,467,593,830,121,1541,3682,171,1595,67,422,3896,331,1478,508,558,804,513,3587,178,393,2877,641,261,325,670,1831,136,418,2625,2791,943,188,36,397,105,587,552,2904,3028,81,2432],\"sizemode\":\"area\",\"sizeref\":12.21375,\"symbol\":\"circle\",\"line\":{\"width\":0}},\"mode\":\"markers\",\"name\":\"\",\"orientation\":\"v\",\"showlegend\":false,\"x\":[\"Groningen\",\"Groningen\",\"Groningen\",\"Groningen\",\"Groningen\",\"Groningen\",\"Groningen\",\"Groningen\",\"Groningen\",\"Groningen\",\"Groningen\",\"Groningen\",\"Groningen\",\"Groningen\",\"Groningen\",\"Groningen\",\"Groningen\",\"Groningen\",\"Groningen\",\"Groningen\",\"Groningen\",\"Groningen\",\"Groningen\",\"Friesland\",\"Friesland\",\"Friesland\",\"Friesland\",\"Friesland\",\"Friesland\",\"Friesland\",\"Friesland\",\"Friesland\",\"Friesland\",\"Friesland\",\"Friesland\",\"Friesland\",\"Friesland\",\"Friesland\",\"Friesland\",\"Friesland\",\"Friesland\",\"Friesland\",\"Friesland\",\"Friesland\",\"Friesland\",\"Friesland\",\"Friesland\",\"Drenthe\",\"Drenthe\",\"Drenthe\",\"Drenthe\",\"Drenthe\",\"Drenthe\",\"Drenthe\",\"Drenthe\",\"Drenthe\",\"Drenthe\",\"Drenthe\",\"Drenthe\",\"Overijssel\",\"Overijssel\",\"Overijssel\",\"Overijssel\",\"Overijssel\",\"Overijssel\",\"Overijssel\",\"Overijssel\",\"Overijssel\",\"Overijssel\",\"Overijssel\",\"Overijssel\",\"Overijssel\",\"Overijssel\",\"Overijssel\",\"Overijssel\",\"Overijssel\",\"Overijssel\",\"Overijssel\",\"Overijssel\",\"Overijssel\",\"Overijssel\",\"Overijssel\",\"Overijssel\",\"Overijssel\",\"Flevoland\",\"Flevoland\",\"Flevoland\",\"Flevoland\",\"Flevoland\",\"Flevoland\",\"Gelderland\",\"Gelderland\",\"Gelderland\",\"Gelderland\",\"Gelderland\",\"Gelderland\",\"Gelderland\",\"Gelderland\",\"Gelderland\",\"Gelderland\",\"Gelderland\",\"Gelderland\",\"Gelderland\",\"Gelderland\",\"Gelderland\",\"Gelderland\",\"Gelderland\",\"Gelderland\",\"Gelderland\",\"Gelderland\",\"Gelderland\",\"Gelderland\",\"Gelderland\",\"Gelderland\",\"Gelderland\",\"Gelderland\",\"Gelderland\",\"Gelderland\",\"Gelderland\",\"Gelderland\",\"Gelderland\",\"Gelderland\",\"Gelderland\",\"Gelderland\",\"Gelderland\",\"Gelderland\",\"Gelderland\",\"Gelderland\",\"Gelderland\",\"Gelderland\",\"Gelderland\",\"Gelderland\",\"Gelderland\",\"Gelderland\",\"Gelderland\",\"Gelderland\",\"Gelderland\",\"Gelderland\",\"Gelderland\",\"Gelderland\",\"Gelderland\",\"Gelderland\",\"Gelderland\",\"Gelderland\",\"Utrecht\",\"Utrecht\",\"Utrecht\",\"Utrecht\",\"Utrecht\",\"Utrecht\",\"Utrecht\",\"Utrecht\",\"Utrecht\",\"Utrecht\",\"Utrecht\",\"Utrecht\",\"Utrecht\",\"Utrecht\",\"Utrecht\",\"Utrecht\",\"Utrecht\",\"Utrecht\",\"Utrecht\",\"Utrecht\",\"Utrecht\",\"Utrecht\",\"Utrecht\",\"Utrecht\",\"Utrecht\",\"Utrecht\",\"Noord-Holland\",\"Noord-Holland\",\"Noord-Holland\",\"Noord-Holland\",\"Noord-Holland\",\"Noord-Holland\",\"Noord-Holland\",\"Noord-Holland\",\"Noord-Holland\",\"Noord-Holland\",\"Noord-Holland\",\"Noord-Holland\",\"Noord-Holland\",\"Noord-Holland\",\"Noord-Holland\",\"Noord-Holland\",\"Noord-Holland\",\"Noord-Holland\",\"Noord-Holland\",\"Noord-Holland\",\"Noord-Holland\",\"Noord-Holland\",\"Noord-Holland\",\"Noord-Holland\",\"Noord-Holland\",\"Noord-Holland\",\"Noord-Holland\",\"Noord-Holland\",\"Noord-Holland\",\"Noord-Holland\",\"Noord-Holland\",\"Noord-Holland\",\"Noord-Holland\",\"Noord-Holland\",\"Noord-Holland\",\"Noord-Holland\",\"Noord-Holland\",\"Noord-Holland\",\"Noord-Holland\",\"Noord-Holland\",\"Noord-Holland\",\"Noord-Holland\",\"Noord-Holland\",\"Noord-Holland\",\"Noord-Holland\",\"Noord-Holland\",\"Noord-Holland\",\"Noord-Holland\",\"Zuid-Holland\",\"Zuid-Holland\",\"Zuid-Holland\",\"Zuid-Holland\",\"Zuid-Holland\",\"Zuid-Holland\",\"Zuid-Holland\",\"Zuid-Holland\",\"Zuid-Holland\",\"Zuid-Holland\",\"Zuid-Holland\",\"Zuid-Holland\",\"Zuid-Holland\",\"Zuid-Holland\",\"Zuid-Holland\",\"Zuid-Holland\",\"Zuid-Holland\",\"Zuid-Holland\",\"Zuid-Holland\",\"Zuid-Holland\",\"Zuid-Holland\",\"Zuid-Holland\",\"Zuid-Holland\",\"Zuid-Holland\",\"Zuid-Holland\",\"Zuid-Holland\",\"Zuid-Holland\",\"Zuid-Holland\",\"Zuid-Holland\",\"Zuid-Holland\",\"Zuid-Holland\",\"Zuid-Holland\",\"Zuid-Holland\",\"Zuid-Holland\",\"Zuid-Holland\",\"Zuid-Holland\",\"Zuid-Holland\",\"Zuid-Holland\",\"Zuid-Holland\",\"Zuid-Holland\",\"Zuid-Holland\",\"Zuid-Holland\",\"Zuid-Holland\",\"Zuid-Holland\",\"Zuid-Holland\",\"Zuid-Holland\",\"Zuid-Holland\",\"Zuid-Holland\",\"Zuid-Holland\",\"Zuid-Holland\",\"Zuid-Holland\",\"Zuid-Holland\",\"Zuid-Holland\",\"Zuid-Holland\",\"Zuid-Holland\",\"Zuid-Holland\",\"Zuid-Holland\",\"Zuid-Holland\",\"Zuid-Holland\",\"Zuid-Holland\",\"Zeeland\",\"Zeeland\",\"Zeeland\",\"Zeeland\",\"Zeeland\",\"Zeeland\",\"Zeeland\",\"Zeeland\",\"Zeeland\",\"Zeeland\",\"Zeeland\",\"Zeeland\",\"Zeeland\",\"Noord-Brabant\",\"Noord-Brabant\",\"Noord-Brabant\",\"Noord-Brabant\",\"Noord-Brabant\",\"Noord-Brabant\",\"Noord-Brabant\",\"Noord-Brabant\",\"Noord-Brabant\",\"Noord-Brabant\",\"Noord-Brabant\",\"Noord-Brabant\",\"Noord-Brabant\",\"Noord-Brabant\",\"Noord-Brabant\",\"Noord-Brabant\",\"Noord-Brabant\",\"Noord-Brabant\",\"Noord-Brabant\",\"Noord-Brabant\",\"Noord-Brabant\",\"Noord-Brabant\",\"Noord-Brabant\",\"Noord-Brabant\",\"Noord-Brabant\",\"Noord-Brabant\",\"Noord-Brabant\",\"Noord-Brabant\",\"Noord-Brabant\",\"Noord-Brabant\",\"Noord-Brabant\",\"Noord-Brabant\",\"Noord-Brabant\",\"Noord-Brabant\",\"Noord-Brabant\",\"Noord-Brabant\",\"Noord-Brabant\",\"Noord-Brabant\",\"Noord-Brabant\",\"Noord-Brabant\",\"Noord-Brabant\",\"Noord-Brabant\",\"Noord-Brabant\",\"Noord-Brabant\",\"Noord-Brabant\",\"Noord-Brabant\",\"Noord-Brabant\",\"Noord-Brabant\",\"Noord-Brabant\",\"Noord-Brabant\",\"Noord-Brabant\",\"Noord-Brabant\",\"Noord-Brabant\",\"Noord-Brabant\",\"Noord-Brabant\",\"Noord-Brabant\",\"Noord-Brabant\",\"Noord-Brabant\",\"Noord-Brabant\",\"Noord-Brabant\",\"Noord-Brabant\",\"Noord-Brabant\",\"Noord-Brabant\",\"Noord-Brabant\",\"Limburg\",\"Limburg\",\"Limburg\",\"Limburg\",\"Limburg\",\"Limburg\",\"Limburg\",\"Limburg\",\"Limburg\",\"Limburg\",\"Limburg\",\"Limburg\",\"Limburg\",\"Limburg\",\"Limburg\",\"Limburg\",\"Limburg\",\"Limburg\",\"Limburg\",\"Limburg\",\"Limburg\",\"Limburg\",\"Limburg\",\"Limburg\",\"Limburg\",\"Limburg\",\"Limburg\",\"Limburg\",\"Limburg\",\"Limburg\",\"Limburg\",\"Limburg\",\"Limburg\"],\"xaxis\":\"x\",\"y\":[62,100,424,41,680,1315,306,111,818,621,235,100,3663,158,295,1673,143,996,661,51,1437,28,57,331,3112,579,508,1414,1613,53,2630,41,1569,1590,1138,65,13,38,4462,2959,3844,585,1351,6926,1046,4038,2350,6628,1231,4061,3590,3855,1431,148,6277,5049,1519,10657,2526,435,154,1627,1584,1967,2378,2220,2244,4189,785,3437,701,1809,225,898,5150,1407,2437,1172,7254,1134,1223,1024,494,438,3088,3797,7149,2497,205,5565,420,19542,3621,5320,2191,2251,184,3567,1559,308,243,30,803,193,25,16837,2470,7234,5130,700,1546,445,3036,995,377,153,3456,141,1830,100,280,575,246,8547,3021,548,621,257,2786,1747,4163,263,2621,162,24,903,540,292,13,535,1991,508,101,630,542,1645,1631,223,19,89,199,49,2047,92,82,96,26,114,1381,241,1793,485,189,6138,57,384,436,69,917,2216,137,171,467,496,18,4463,221,264,2533,1542,246,31,51,45,949,77,279,216,1044,143,62,144,554,1955,942,10,470,55,293,98,659,129,214,26,38,284,1158,33,4782,62,13,1449,121,73,1137,52,354,2651,20,276,242,81,282,93,61,3,168,162,1602,40,4968,56,19,1089,67,220,73,18,44,515,1118,32,355,209,150,16,11,150,153,32,122,286,787,621,1901,194,22,3,44,358,43,4,765,53,2,323,76,284,68,46,2649,531,1703,284,47,15,169,81,313,391,2982,177,184,526,951,3983,697,1217,1157,1804,151,150,2047,1561,870,2876,2169,1063,744,2216,134,1604,1716,1584,2661,272,2734,38,1720,2094,1017,212,75,700,2993,1562,1063,230,955,279,5082,947,707,1546,2826,559,1631,1781,1665,863,609,550,3254,1751,1425,915,2341,673,1278,1447,426,1658,487,838,1906,813,1895,467,593,830,121,1541,3682,171,1595,67,422,3896,331,1478,508,558,804,513,3587,178,393,2877,641,261,325,670,1831,136,418,2625,2791,943,188,36,397,105,587,552,2904,3028,81,2432],\"yaxis\":\"y\",\"type\":\"scatter\"}],                        {\"template\":{\"data\":{\"histogram2dcontour\":[{\"type\":\"histogram2dcontour\",\"colorbar\":{\"outlinewidth\":0,\"ticks\":\"\"},\"colorscale\":[[0.0,\"#0d0887\"],[0.1111111111111111,\"#46039f\"],[0.2222222222222222,\"#7201a8\"],[0.3333333333333333,\"#9c179e\"],[0.4444444444444444,\"#bd3786\"],[0.5555555555555556,\"#d8576b\"],[0.6666666666666666,\"#ed7953\"],[0.7777777777777778,\"#fb9f3a\"],[0.8888888888888888,\"#fdca26\"],[1.0,\"#f0f921\"]]}],\"choropleth\":[{\"type\":\"choropleth\",\"colorbar\":{\"outlinewidth\":0,\"ticks\":\"\"}}],\"histogram2d\":[{\"type\":\"histogram2d\",\"colorbar\":{\"outlinewidth\":0,\"ticks\":\"\"},\"colorscale\":[[0.0,\"#0d0887\"],[0.1111111111111111,\"#46039f\"],[0.2222222222222222,\"#7201a8\"],[0.3333333333333333,\"#9c179e\"],[0.4444444444444444,\"#bd3786\"],[0.5555555555555556,\"#d8576b\"],[0.6666666666666666,\"#ed7953\"],[0.7777777777777778,\"#fb9f3a\"],[0.8888888888888888,\"#fdca26\"],[1.0,\"#f0f921\"]]}],\"heatmap\":[{\"type\":\"heatmap\",\"colorbar\":{\"outlinewidth\":0,\"ticks\":\"\"},\"colorscale\":[[0.0,\"#0d0887\"],[0.1111111111111111,\"#46039f\"],[0.2222222222222222,\"#7201a8\"],[0.3333333333333333,\"#9c179e\"],[0.4444444444444444,\"#bd3786\"],[0.5555555555555556,\"#d8576b\"],[0.6666666666666666,\"#ed7953\"],[0.7777777777777778,\"#fb9f3a\"],[0.8888888888888888,\"#fdca26\"],[1.0,\"#f0f921\"]]}],\"heatmapgl\":[{\"type\":\"heatmapgl\",\"colorbar\":{\"outlinewidth\":0,\"ticks\":\"\"},\"colorscale\":[[0.0,\"#0d0887\"],[0.1111111111111111,\"#46039f\"],[0.2222222222222222,\"#7201a8\"],[0.3333333333333333,\"#9c179e\"],[0.4444444444444444,\"#bd3786\"],[0.5555555555555556,\"#d8576b\"],[0.6666666666666666,\"#ed7953\"],[0.7777777777777778,\"#fb9f3a\"],[0.8888888888888888,\"#fdca26\"],[1.0,\"#f0f921\"]]}],\"contourcarpet\":[{\"type\":\"contourcarpet\",\"colorbar\":{\"outlinewidth\":0,\"ticks\":\"\"}}],\"contour\":[{\"type\":\"contour\",\"colorbar\":{\"outlinewidth\":0,\"ticks\":\"\"},\"colorscale\":[[0.0,\"#0d0887\"],[0.1111111111111111,\"#46039f\"],[0.2222222222222222,\"#7201a8\"],[0.3333333333333333,\"#9c179e\"],[0.4444444444444444,\"#bd3786\"],[0.5555555555555556,\"#d8576b\"],[0.6666666666666666,\"#ed7953\"],[0.7777777777777778,\"#fb9f3a\"],[0.8888888888888888,\"#fdca26\"],[1.0,\"#f0f921\"]]}],\"surface\":[{\"type\":\"surface\",\"colorbar\":{\"outlinewidth\":0,\"ticks\":\"\"},\"colorscale\":[[0.0,\"#0d0887\"],[0.1111111111111111,\"#46039f\"],[0.2222222222222222,\"#7201a8\"],[0.3333333333333333,\"#9c179e\"],[0.4444444444444444,\"#bd3786\"],[0.5555555555555556,\"#d8576b\"],[0.6666666666666666,\"#ed7953\"],[0.7777777777777778,\"#fb9f3a\"],[0.8888888888888888,\"#fdca26\"],[1.0,\"#f0f921\"]]}],\"mesh3d\":[{\"type\":\"mesh3d\",\"colorbar\":{\"outlinewidth\":0,\"ticks\":\"\"}}],\"scatter\":[{\"fillpattern\":{\"fillmode\":\"overlay\",\"size\":10,\"solidity\":0.2},\"type\":\"scatter\"}],\"parcoords\":[{\"type\":\"parcoords\",\"line\":{\"colorbar\":{\"outlinewidth\":0,\"ticks\":\"\"}}}],\"scatterpolargl\":[{\"type\":\"scatterpolargl\",\"marker\":{\"colorbar\":{\"outlinewidth\":0,\"ticks\":\"\"}}}],\"bar\":[{\"error_x\":{\"color\":\"#2a3f5f\"},\"error_y\":{\"color\":\"#2a3f5f\"},\"marker\":{\"line\":{\"color\":\"#E5ECF6\",\"width\":0.5},\"pattern\":{\"fillmode\":\"overlay\",\"size\":10,\"solidity\":0.2}},\"type\":\"bar\"}],\"scattergeo\":[{\"type\":\"scattergeo\",\"marker\":{\"colorbar\":{\"outlinewidth\":0,\"ticks\":\"\"}}}],\"scatterpolar\":[{\"type\":\"scatterpolar\",\"marker\":{\"colorbar\":{\"outlinewidth\":0,\"ticks\":\"\"}}}],\"histogram\":[{\"marker\":{\"pattern\":{\"fillmode\":\"overlay\",\"size\":10,\"solidity\":0.2}},\"type\":\"histogram\"}],\"scattergl\":[{\"type\":\"scattergl\",\"marker\":{\"colorbar\":{\"outlinewidth\":0,\"ticks\":\"\"}}}],\"scatter3d\":[{\"type\":\"scatter3d\",\"line\":{\"colorbar\":{\"outlinewidth\":0,\"ticks\":\"\"}},\"marker\":{\"colorbar\":{\"outlinewidth\":0,\"ticks\":\"\"}}}],\"scattermapbox\":[{\"type\":\"scattermapbox\",\"marker\":{\"colorbar\":{\"outlinewidth\":0,\"ticks\":\"\"}}}],\"scatterternary\":[{\"type\":\"scatterternary\",\"marker\":{\"colorbar\":{\"outlinewidth\":0,\"ticks\":\"\"}}}],\"scattercarpet\":[{\"type\":\"scattercarpet\",\"marker\":{\"colorbar\":{\"outlinewidth\":0,\"ticks\":\"\"}}}],\"carpet\":[{\"aaxis\":{\"endlinecolor\":\"#2a3f5f\",\"gridcolor\":\"white\",\"linecolor\":\"white\",\"minorgridcolor\":\"white\",\"startlinecolor\":\"#2a3f5f\"},\"baxis\":{\"endlinecolor\":\"#2a3f5f\",\"gridcolor\":\"white\",\"linecolor\":\"white\",\"minorgridcolor\":\"white\",\"startlinecolor\":\"#2a3f5f\"},\"type\":\"carpet\"}],\"table\":[{\"cells\":{\"fill\":{\"color\":\"#EBF0F8\"},\"line\":{\"color\":\"white\"}},\"header\":{\"fill\":{\"color\":\"#C8D4E3\"},\"line\":{\"color\":\"white\"}},\"type\":\"table\"}],\"barpolar\":[{\"marker\":{\"line\":{\"color\":\"#E5ECF6\",\"width\":0.5},\"pattern\":{\"fillmode\":\"overlay\",\"size\":10,\"solidity\":0.2}},\"type\":\"barpolar\"}],\"pie\":[{\"automargin\":true,\"type\":\"pie\"}]},\"layout\":{\"autotypenumbers\":\"strict\",\"colorway\":[\"#636efa\",\"#EF553B\",\"#00cc96\",\"#ab63fa\",\"#FFA15A\",\"#19d3f3\",\"#FF6692\",\"#B6E880\",\"#FF97FF\",\"#FECB52\"],\"font\":{\"color\":\"#2a3f5f\"},\"hovermode\":\"closest\",\"hoverlabel\":{\"align\":\"left\"},\"paper_bgcolor\":\"white\",\"plot_bgcolor\":\"#E5ECF6\",\"polar\":{\"bgcolor\":\"#E5ECF6\",\"angularaxis\":{\"gridcolor\":\"white\",\"linecolor\":\"white\",\"ticks\":\"\"},\"radialaxis\":{\"gridcolor\":\"white\",\"linecolor\":\"white\",\"ticks\":\"\"}},\"ternary\":{\"bgcolor\":\"#E5ECF6\",\"aaxis\":{\"gridcolor\":\"white\",\"linecolor\":\"white\",\"ticks\":\"\"},\"baxis\":{\"gridcolor\":\"white\",\"linecolor\":\"white\",\"ticks\":\"\"},\"caxis\":{\"gridcolor\":\"white\",\"linecolor\":\"white\",\"ticks\":\"\"}},\"coloraxis\":{\"colorbar\":{\"outlinewidth\":0,\"ticks\":\"\"}},\"colorscale\":{\"sequential\":[[0.0,\"#0d0887\"],[0.1111111111111111,\"#46039f\"],[0.2222222222222222,\"#7201a8\"],[0.3333333333333333,\"#9c179e\"],[0.4444444444444444,\"#bd3786\"],[0.5555555555555556,\"#d8576b\"],[0.6666666666666666,\"#ed7953\"],[0.7777777777777778,\"#fb9f3a\"],[0.8888888888888888,\"#fdca26\"],[1.0,\"#f0f921\"]],\"sequentialminus\":[[0.0,\"#0d0887\"],[0.1111111111111111,\"#46039f\"],[0.2222222222222222,\"#7201a8\"],[0.3333333333333333,\"#9c179e\"],[0.4444444444444444,\"#bd3786\"],[0.5555555555555556,\"#d8576b\"],[0.6666666666666666,\"#ed7953\"],[0.7777777777777778,\"#fb9f3a\"],[0.8888888888888888,\"#fdca26\"],[1.0,\"#f0f921\"]],\"diverging\":[[0,\"#8e0152\"],[0.1,\"#c51b7d\"],[0.2,\"#de77ae\"],[0.3,\"#f1b6da\"],[0.4,\"#fde0ef\"],[0.5,\"#f7f7f7\"],[0.6,\"#e6f5d0\"],[0.7,\"#b8e186\"],[0.8,\"#7fbc41\"],[0.9,\"#4d9221\"],[1,\"#276419\"]]},\"xaxis\":{\"gridcolor\":\"white\",\"linecolor\":\"white\",\"ticks\":\"\",\"title\":{\"standoff\":15},\"zerolinecolor\":\"white\",\"automargin\":true,\"zerolinewidth\":2},\"yaxis\":{\"gridcolor\":\"white\",\"linecolor\":\"white\",\"ticks\":\"\",\"title\":{\"standoff\":15},\"zerolinecolor\":\"white\",\"automargin\":true,\"zerolinewidth\":2},\"scene\":{\"xaxis\":{\"backgroundcolor\":\"#E5ECF6\",\"gridcolor\":\"white\",\"linecolor\":\"white\",\"showbackground\":true,\"ticks\":\"\",\"zerolinecolor\":\"white\",\"gridwidth\":2},\"yaxis\":{\"backgroundcolor\":\"#E5ECF6\",\"gridcolor\":\"white\",\"linecolor\":\"white\",\"showbackground\":true,\"ticks\":\"\",\"zerolinecolor\":\"white\",\"gridwidth\":2},\"zaxis\":{\"backgroundcolor\":\"#E5ECF6\",\"gridcolor\":\"white\",\"linecolor\":\"white\",\"showbackground\":true,\"ticks\":\"\",\"zerolinecolor\":\"white\",\"gridwidth\":2}},\"shapedefaults\":{\"line\":{\"color\":\"#2a3f5f\"}},\"annotationdefaults\":{\"arrowcolor\":\"#2a3f5f\",\"arrowhead\":0,\"arrowwidth\":1},\"geo\":{\"bgcolor\":\"white\",\"landcolor\":\"#E5ECF6\",\"subunitcolor\":\"white\",\"showland\":true,\"showlakes\":true,\"lakecolor\":\"white\"},\"title\":{\"x\":0.05},\"mapbox\":{\"style\":\"light\"}}},\"xaxis\":{\"anchor\":\"y\",\"domain\":[0.0,1.0],\"title\":{\"text\":\"Provincie\"},\"tickangle\":-55},\"yaxis\":{\"anchor\":\"x\",\"domain\":[0.0,1.0],\"title\":{\"text\":\"Totaal bos en open natuurlijk terrein (ha)\"}},\"legend\":{\"tracegroupgap\":0,\"itemsizing\":\"constant\"},\"title\":{\"text\":\"Aantal hectaren groen per gemeente per provincie\"},\"height\":600,\"width\":750,\"paper_bgcolor\":\"#fbf2e2\",\"plot_bgcolor\":\"#fbf2e2\"},                        {\"responsive\": true}                    ).then(function(){\n",
       "                            \n",
       "var gd = document.getElementById('5dcf10d0-6bea-4f1f-9ddb-fbcdf7cc1de5');\n",
       "var x = new MutationObserver(function (mutations, observer) {{\n",
       "        var display = window.getComputedStyle(gd).display;\n",
       "        if (!display || display === 'none') {{\n",
       "            console.log([gd, 'removed!']);\n",
       "            Plotly.purge(gd);\n",
       "            observer.disconnect();\n",
       "        }}\n",
       "}});\n",
       "\n",
       "// Listen for the removal of the full notebook cells\n",
       "var notebookContainer = gd.closest('#notebook-container');\n",
       "if (notebookContainer) {{\n",
       "    x.observe(notebookContainer, {childList: true});\n",
       "}}\n",
       "\n",
       "// Listen for the clearing of the current output cell\n",
       "var outputEl = gd.closest('.output');\n",
       "if (outputEl) {{\n",
       "    x.observe(outputEl, {childList: true});\n",
       "}}\n",
       "\n",
       "                        })                };                });            </script>        </div>"
      ]
     },
     "metadata": {},
     "output_type": "display_data"
    }
   ],
   "source": [
    "df = pd.read_csv('bebossing_Alle_Gemeenten+Provincie.csv')\n",
    "\n",
    "df['First_Letter'] = df[\"Gemeente\"].str[0]\n",
    "\n",
    "fig = px.scatter(df, \n",
    "                 x='Provincie', \n",
    "                 y='Totaal bos en open natuurlijk terrein (ha)', \n",
    "                 size='Totaal bos en open natuurlijk terrein (ha)', \n",
    "                 hover_name=\"Gemeente\",\n",
    "                 title='Bubble plot van Nederlandse gemeenten per provincie',\n",
    "                 labels={'Provincie': 'Provincie', 'Totaal bos en open natuurlijk terrein (ha)': 'Totaal bos en open natuurlijk terrein (ha)'},\n",
    "                 size_max=40)\n",
    "\n",
    "fig.update_traces(marker=dict(line=dict(width=0)))\n",
    "fig.update_traces(marker=dict(color='green', line=dict(width=0)))\n",
    "\n",
    "fig.update_traces(hovertemplate='<br>'.join([\n",
    "    'Gemeente: %{hovertext}',\n",
    "    'Aantal: %{y}'\n",
    "]))\n",
    "\n",
    "fig.update_layout(\n",
    "    title='Aantal hectaren groen per gemeente per provincie',\n",
    "    height=600,\n",
    "    width=750,\n",
    "    paper_bgcolor='#fbf2e2',\n",
    "    plot_bgcolor='#fbf2e2'\n",
    ")\n",
    "\n",
    "fig.update_xaxes(tickangle=-55)\n",
    "\n",
    "fig.show()"
   ]
  }
 ],
 "metadata": {
  "kernelspec": {
   "display_name": "Python 3",
   "language": "python",
   "name": "python3"
  },
  "language_info": {
   "codemirror_mode": {
    "name": "ipython",
    "version": 3
   },
   "file_extension": ".py",
   "mimetype": "text/x-python",
   "name": "python",
   "nbconvert_exporter": "python",
   "pygments_lexer": "ipython3",
   "version": "3.11.5"
  }
 },
 "nbformat": 4,
 "nbformat_minor": 2
}